{
 "cells": [
  {
   "cell_type": "markdown",
   "metadata": {},
   "source": [
    "# E1"
   ]
  },
  {
   "cell_type": "markdown",
   "metadata": {},
   "source": [
    "En un suceso de dispersión Compton, el fotón dispersado tiene una energía de 120 keV y el electrón que retrocede tiene una energía de 40 keV. Hallar (a) la longitud de onda del fotón incidente, (b) el ángulo $\\theta$ con el que se dispersa el fotón, y (c) el ángulo de retroceso φ del electrón.\n",
    "\n",
    "<img src=\"ec1.png\" width=100% display=block>"
   ]
  },
  {
   "cell_type": "markdown",
   "metadata": {},
   "source": [
    "# E2"
   ]
  },
  {
   "cell_type": "markdown",
   "metadata": {},
   "source": [
    "Si la energía máxima que recibe un electrón durante la dispersión Compton es de 30 keV, ¿cuál es la longitud de onda del fotón incidente? (Pista: ¿Cuál es el ángulo de dispersión para la máxima transferencia de energía?)"
   ]
  },
  {
   "cell_type": "code",
   "execution_count": null,
   "metadata": {},
   "outputs": [],
   "source": []
  },
  {
   "cell_type": "markdown",
   "metadata": {},
   "source": [
    "# E3"
   ]
  },
  {
   "cell_type": "markdown",
   "metadata": {},
   "source": [
    "En una colisión Compton con un electrón, un fotón de luz violeta ($\\lambda = 4000$ A) es retrodispersado a través de un ángulo de $180^\\circ$. (a) ¿Cuánta energía (eV) se transfiere al electrón en esta colisión? (b) Compare su resultado con la energía que adquiriría este electrón en un proceso fotoeléctrico con el mismo fotón. (c) ¿Podría la luz violeta expulsar electrones de un metal por colisión Compton? "
   ]
  }
 ],
 "metadata": {
  "kernelspec": {
   "display_name": "base",
   "language": "python",
   "name": "python3"
  },
  "language_info": {
   "codemirror_mode": {
    "name": "ipython",
    "version": 3
   },
   "file_extension": ".py",
   "mimetype": "text/x-python",
   "name": "python",
   "nbconvert_exporter": "python",
   "pygments_lexer": "ipython3",
   "version": "3.11.6"
  }
 },
 "nbformat": 4,
 "nbformat_minor": 2
}
