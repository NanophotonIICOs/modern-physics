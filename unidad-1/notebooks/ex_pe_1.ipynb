{
 "cells": [
  {
   "cell_type": "markdown",
   "metadata": {},
   "source": [
    "# Ejercicios Efecto Fotoelectrico"
   ]
  },
  {
   "cell_type": "markdown",
   "metadata": {},
   "source": [
    "## E1\n",
    "\n",
    "Hay evidencia de que el universo emite radiacion de cuerpo negro correspondiente a una temperatura de equilibrio cercana a 3 K. Calcule la energia de un cuanto de luz de longitud de onda $λ_m$  a esta temperatura, y a 300 K (temperatura ambiente).\n",
    "La ley de Planck predice que la densidad espectral de la radiaci on de cuerpo negro tiene un maximo para cada temperatura, que ocurre a la longitud onda:\n",
    "$$\n",
    "\\lambda_{m} = \\dfrac{2\\pi c\\hbar}{4.965}\\dfrac{1}{k_{B}T}\n",
    "$$\n",
    "\n",
    "1ev = $1.602176634\\times10^{−19}$ J"
   ]
  },
  {
   "cell_type": "code",
   "execution_count": null,
   "metadata": {},
   "outputs": [],
   "source": []
  },
  {
   "cell_type": "markdown",
   "metadata": {},
   "source": [
    "## E2\n",
    "Calcule la energia de un cuanto de luz visible de longitud de onda de 6000 ${\\AA}$. Calcule el numero de cuantos de esta longitud de onda que emite por segundo una fuente de 100 watts."
   ]
  },
  {
   "cell_type": "code",
   "execution_count": null,
   "metadata": {},
   "outputs": [],
   "source": []
  },
  {
   "cell_type": "markdown",
   "metadata": {},
   "source": [
    "## E3\n",
    "Luz ultravioleta de longitud de onda $\\lambda$ = 3500 $\\AA$ incide sobre una superficie de potasio; se observa que la energia maxima de los fotoelectrones emitidos es de 1.6 eV. Calcule la funcion de trabajo del potasio, despreciando correcciones termicas."
   ]
  },
  {
   "cell_type": "code",
   "execution_count": null,
   "metadata": {},
   "outputs": [],
   "source": []
  },
  {
   "cell_type": "markdown",
   "metadata": {},
   "source": [
    "## E4\n",
    "Un foton de 100 MeV choca con un proton en reposo. Calcule la perdida maaxima de energia del foton."
   ]
  },
  {
   "cell_type": "code",
   "execution_count": null,
   "metadata": {},
   "outputs": [],
   "source": []
  },
  {
   "cell_type": "markdown",
   "metadata": {},
   "source": [
    "## E5\n",
    "\n",
    " Un foton de 100 MeV choca con un electron en reposo y es dispersado a $45^\\circ$ respecto a la direccion de incidencia. Calcule la energia de cada particula despues de la colision y determine la direccion de salida del electron."
   ]
  },
  {
   "cell_type": "code",
   "execution_count": null,
   "metadata": {},
   "outputs": [],
   "source": []
  }
 ],
 "metadata": {
  "kernelspec": {
   "display_name": "base",
   "language": "python",
   "name": "python3"
  },
  "language_info": {
   "codemirror_mode": {
    "name": "ipython",
    "version": 3
   },
   "file_extension": ".py",
   "mimetype": "text/x-python",
   "name": "python",
   "nbconvert_exporter": "python",
   "pygments_lexer": "ipython3",
   "version": "3.11.6"
  }
 },
 "nbformat": 4,
 "nbformat_minor": 2
}
